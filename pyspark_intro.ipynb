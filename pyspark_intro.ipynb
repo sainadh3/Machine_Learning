{
 "cells": [
  {
   "cell_type": "markdown",
   "id": "c5ff6c8d-afd5-4f3f-9788-0870ca5b6c0f",
   "metadata": {},
   "source": [
    "### Command to print current working directory"
   ]
  },
  {
   "cell_type": "code",
   "execution_count": 30,
   "id": "bf5e4312-664a-4c35-bf78-3a89d37c2bda",
   "metadata": {},
   "outputs": [
    {
     "data": {
      "text/plain": [
       "'E:\\\\Machine Learning A-Z_Download Codes and Datasets\\\\ML_Git'"
      ]
     },
     "execution_count": 30,
     "metadata": {},
     "output_type": "execute_result"
    }
   ],
   "source": [
    "import os\n",
    "os.getcwd()"
   ]
  },
  {
   "cell_type": "markdown",
   "id": "f61cf9a8-ca54-4d47-bd9b-935818372157",
   "metadata": {},
   "source": [
    "### Command to move and copy files from one location to another location"
   ]
  },
  {
   "cell_type": "markdown",
   "id": "1a4b7afb-389e-47b7-b0d5-283f8fb9ad29",
   "metadata": {},
   "source": [
    "In a raw string, backslashes (\\) are treated as literal characters and are not interpreted as escape characters (such as \\n for newline or \\t for tab)"
   ]
  },
  {
   "cell_type": "code",
   "execution_count": null,
   "id": "efe7fd41-fe4b-4d4a-b7f5-01fbae0d6fbe",
   "metadata": {},
   "outputs": [],
   "source": [
    "import shutil\n",
    "shutil.move(r'E:\\\\Machine Learning A-Z_Download Codes and Datasets\\\\AWS\\pyspark_intro.ipynb'\\\n",
    "            ,r'E:\\\\Machine Learning A-Z_Download Codes and Datasets\\\\ML_Git\\pyspark_intro.ipynb')\n",
    "#shutil.copy(src_path,dst_path)"
   ]
  },
  {
   "cell_type": "markdown",
   "id": "52a52eb3-bbd3-4a17-997a-1a40941e9e47",
   "metadata": {},
   "source": [
    "### Pyspark Introduction"
   ]
  },
  {
   "cell_type": "markdown",
   "id": "79fff6c5-45d5-4b6b-9259-49cc562ee627",
   "metadata": {},
   "source": [
    "PySpark is a versatile, high-performance tool for anyone working with big data, offering a unified platform for data processing, analytics, machine learning, and real-time applications—all accessible through Python\n",
    "\n",
    "Key Uses of PySpark\n",
    "\n",
    "Big Data Processing:\n",
    "PySpark excels at processing and transforming large volumes of structured, semi-structured, or unstructured data. It can handle data at any scale, from a single workstation to thousands of nodes.\n",
    "\n",
    "Data Analysis:\n",
    "You can perform SQL-like queries using PySpark SQL, which allows for interactive data exploration and analysis. PySpark DataFrames provide a familiar tabular interface, similar to Pandas or R, but with distributed computing power.\n",
    "\n",
    "Machine Learning:\n",
    "PySpark integrates with Spark MLlib, allowing users to build, train, and tune machine learning models on massive datasets. This includes tasks like regression, classification, clustering, and recommendation systems.\n",
    "\n",
    "Streaming and Real-Time Analytics:\n",
    "With Spark Streaming, PySpark can process real-time data streams, making it suitable for use cases like fraud detection, monitoring, and alerting.\n",
    "\n",
    "Graph Processing:\n",
    "PySpark supports graph analytics through libraries like GraphFrames, enabling efficient analysis of large-scale graph data (e.g., social networks, recommendation engines).\n",
    "\n",
    "ETL (Extract, Transform, Load):\n",
    "PySpark is often used to build ETL pipelines for data warehousing and data lake solutions. It supports reading from and writing to various data sources and formats, including CSV, Parquet, JSON, and Hive tables.\n",
    "\n",
    "Integration with Other Tools:\n",
    "PySpark can be used alongside popular Python libraries such as Pandas, NumPy, and scikit-learn, and integrates well with Jupyter Notebooks for interactive development.\n",
    "\n",
    "Why Use PySpark?\n",
    "Scalability:\n",
    "Handles petabyte-scale data efficiently, far beyond the limits of single-machine tools.\n",
    "\n",
    "Speed:\n",
    "In-memory computation and optimized execution plans make PySpark significantly faster than disk-based frameworks like Hadoop MapReduce.\n",
    "\n",
    "Fault Tolerance:\n",
    "Built-in mechanisms for recovering from failures ensure reliability in distributed environments.\n",
    "\n",
    "Flexibility:\n",
    "Supports batch and streaming data, structured and unstructured formats, and a wide range of analytics and machine learning tasks"
   ]
  },
  {
   "cell_type": "markdown",
   "id": "006977a3-f673-4720-81b1-7df55077e5ad",
   "metadata": {},
   "source": [
    "Installing Pyspark in Windows\n",
    "1. Created Python virtual environment named 'my_venv'  cmd: python -m venv my_venv\n",
    "2. activate the environment cmd: .\\my_venv\\Scripts\\activate\n",
    "3. install pyspark cmd: pip install pyspark\n",
    "4. install terminal for pyspark cmd: pip install ipykernel\n",
    "5. install the kernel cmd: python -m ipykernel install --user --name PYSPARK_KERNEL"
   ]
  },
  {
   "cell_type": "code",
   "execution_count": 31,
   "id": "054891ae-22bd-490d-b612-dd2fc4722f45",
   "metadata": {},
   "outputs": [],
   "source": [
    "import pyspark\n",
    "from pyspark.sql import SparkSession\n",
    "# if got the error of PySparkRuntimeError: [JAVA_GATEWAY_EXITED] Java gateway process exited before sending its port number. \n",
    "import os\n",
    "os.environ['JAVA_HOME'] = r'C:\\Users\\sainadh\\my_venv\\Java\\jdk-21'"
   ]
  },
  {
   "cell_type": "code",
   "execution_count": 32,
   "id": "95f5385c-42bf-4271-a9bd-8d78f2c14f1f",
   "metadata": {},
   "outputs": [],
   "source": [
    "from pyspark.sql.types import *\n",
    "from pyspark.sql.functions import *"
   ]
  },
  {
   "cell_type": "code",
   "execution_count": 33,
   "id": "4fc930f8-af52-4042-bda2-46d05af7bccf",
   "metadata": {},
   "outputs": [],
   "source": [
    "# initializing spark session\n",
    "spark=SparkSession.builder.getOrCreate()\n",
    "\n",
    "file_path=os.getcwd()+r'\\BigMart_Sales.csv'\n"
   ]
  },
  {
   "cell_type": "code",
   "execution_count": 34,
   "id": "6a372cd7-8d08-4648-8368-30137af284dd",
   "metadata": {},
   "outputs": [
    {
     "name": "stdout",
     "output_type": "stream",
     "text": [
      "root\n",
      " |-- Item_Identifier: string (nullable = true)\n",
      " |-- Item_Weight: string (nullable = true)\n",
      " |-- Item_Fat_Content: string (nullable = true)\n",
      " |-- Item_Visibility: string (nullable = true)\n",
      " |-- Item_Type: string (nullable = true)\n",
      " |-- Item_MRP: string (nullable = true)\n",
      " |-- Outlet_Identifier: string (nullable = true)\n",
      " |-- Outlet_Establishment_Year: string (nullable = true)\n",
      " |-- Outlet_Size: string (nullable = true)\n",
      " |-- Outlet_Location_Type: string (nullable = true)\n",
      " |-- Outlet_Type: string (nullable = true)\n",
      " |-- Item_Outlet_Sales: string (nullable = true)\n",
      "\n"
     ]
    }
   ],
   "source": [
    "# read data into pyspark with different file formats\n",
    "df1 = spark.read.format('csv')\\\n",
    "                .option('infershcema',True)\\\n",
    "                .option('header',True)\\\n",
    "                .load(file_path)\n",
    "# inferSchema=True tells PySpark to automatically detect (infer) the data types of each column in your CSV file.\n",
    "df1.printSchema()"
   ]
  },
  {
   "cell_type": "code",
   "execution_count": 35,
   "id": "a3482599-a169-4a8a-a9ea-5faffa4ae418",
   "metadata": {},
   "outputs": [
    {
     "name": "stdout",
     "output_type": "stream",
     "text": [
      "root\n",
      " |-- Item_Identifier: string (nullable = true)\n",
      " |-- Item_Weight: string (nullable = true)\n",
      " |-- Item_Fat_Content: string (nullable = true)\n",
      " |-- Item_Visibility: string (nullable = true)\n",
      " |-- Item_Type: string (nullable = true)\n",
      " |-- Item_MRP: string (nullable = true)\n",
      " |-- Outlet_Identifier: string (nullable = true)\n",
      " |-- Outlet_Establishment_Year: string (nullable = true)\n",
      " |-- Outlet_Size: string (nullable = true)\n",
      " |-- Outlet_Location_Type: string (nullable = true)\n",
      " |-- Outlet_Type: string (nullable = true)\n",
      " |-- Item_Outlet_Sales: string (nullable = true)\n",
      "\n"
     ]
    }
   ],
   "source": [
    "# simple code to read the csv data\n",
    "df = spark.read.csv(file_path,header=True)\n",
    "df.printSchema() # returns schema of the dataframe"
   ]
  },
  {
   "cell_type": "code",
   "execution_count": 36,
   "id": "5965d9f1-72c0-432f-944e-8cb1d83249da",
   "metadata": {},
   "outputs": [
    {
     "name": "stdout",
     "output_type": "stream",
     "text": [
      "-RECORD 0--------------------------------------\n",
      " Item_Identifier           | FDA15             \n",
      " Item_Weight               | 9.3               \n",
      " Item_Fat_Content          | Low Fat           \n",
      " Item_Visibility           | 0.016047301       \n",
      " Item_Type                 | Dairy             \n",
      " Item_MRP                  | 249.8092          \n",
      " Outlet_Identifier         | OUT049            \n",
      " Outlet_Establishment_Year | 1999              \n",
      " Outlet_Size               | Medium            \n",
      " Outlet_Location_Type      | Tier 1            \n",
      " Outlet_Type               | Supermarket Type1 \n",
      " Item_Outlet_Sales         | 3735.138          \n",
      "only showing top 1 row\n"
     ]
    }
   ],
   "source": [
    "# n- no.of rows to be  printed and vertical- Each row will be printed in vertical fashion\n",
    "df.show(n=1, truncate=False, vertical=True) "
   ]
  },
  {
   "cell_type": "code",
   "execution_count": 37,
   "id": "b18d3532-01af-4826-8b63-100d797c19d8",
   "metadata": {},
   "outputs": [
    {
     "data": {
      "text/html": [
       "<div>\n",
       "<style scoped>\n",
       "    .dataframe tbody tr th:only-of-type {\n",
       "        vertical-align: middle;\n",
       "    }\n",
       "\n",
       "    .dataframe tbody tr th {\n",
       "        vertical-align: top;\n",
       "    }\n",
       "\n",
       "    .dataframe thead th {\n",
       "        text-align: right;\n",
       "    }\n",
       "</style>\n",
       "<table border=\"1\" class=\"dataframe\">\n",
       "  <thead>\n",
       "    <tr style=\"text-align: right;\">\n",
       "      <th></th>\n",
       "      <th>Item_Identifier</th>\n",
       "      <th>Item_Weight</th>\n",
       "      <th>Item_Fat_Content</th>\n",
       "      <th>Item_Visibility</th>\n",
       "      <th>Item_Type</th>\n",
       "      <th>Item_MRP</th>\n",
       "      <th>Outlet_Identifier</th>\n",
       "      <th>Outlet_Establishment_Year</th>\n",
       "      <th>Outlet_Size</th>\n",
       "      <th>Outlet_Location_Type</th>\n",
       "      <th>Outlet_Type</th>\n",
       "      <th>Item_Outlet_Sales</th>\n",
       "    </tr>\n",
       "  </thead>\n",
       "  <tbody>\n",
       "    <tr>\n",
       "      <th>0</th>\n",
       "      <td>FDA15</td>\n",
       "      <td>9.3</td>\n",
       "      <td>Low Fat</td>\n",
       "      <td>0.016047301</td>\n",
       "      <td>Dairy</td>\n",
       "      <td>249.8092</td>\n",
       "      <td>OUT049</td>\n",
       "      <td>1999</td>\n",
       "      <td>Medium</td>\n",
       "      <td>Tier 1</td>\n",
       "      <td>Supermarket Type1</td>\n",
       "      <td>3735.138</td>\n",
       "    </tr>\n",
       "    <tr>\n",
       "      <th>1</th>\n",
       "      <td>DRC01</td>\n",
       "      <td>5.92</td>\n",
       "      <td>Regular</td>\n",
       "      <td>0.019278216</td>\n",
       "      <td>Soft Drinks</td>\n",
       "      <td>48.2692</td>\n",
       "      <td>OUT018</td>\n",
       "      <td>2009</td>\n",
       "      <td>Medium</td>\n",
       "      <td>Tier 3</td>\n",
       "      <td>Supermarket Type2</td>\n",
       "      <td>443.4228</td>\n",
       "    </tr>\n",
       "    <tr>\n",
       "      <th>2</th>\n",
       "      <td>FDN15</td>\n",
       "      <td>17.5</td>\n",
       "      <td>Low Fat</td>\n",
       "      <td>0.016760075</td>\n",
       "      <td>Meat</td>\n",
       "      <td>141.618</td>\n",
       "      <td>OUT049</td>\n",
       "      <td>1999</td>\n",
       "      <td>Medium</td>\n",
       "      <td>Tier 1</td>\n",
       "      <td>Supermarket Type1</td>\n",
       "      <td>2097.27</td>\n",
       "    </tr>\n",
       "    <tr>\n",
       "      <th>3</th>\n",
       "      <td>FDX07</td>\n",
       "      <td>19.2</td>\n",
       "      <td>Regular</td>\n",
       "      <td>0</td>\n",
       "      <td>Fruits and Vegetables</td>\n",
       "      <td>182.095</td>\n",
       "      <td>OUT010</td>\n",
       "      <td>1998</td>\n",
       "      <td>None</td>\n",
       "      <td>Tier 3</td>\n",
       "      <td>Grocery Store</td>\n",
       "      <td>732.38</td>\n",
       "    </tr>\n",
       "    <tr>\n",
       "      <th>4</th>\n",
       "      <td>NCD19</td>\n",
       "      <td>8.93</td>\n",
       "      <td>Low Fat</td>\n",
       "      <td>0</td>\n",
       "      <td>Household</td>\n",
       "      <td>53.8614</td>\n",
       "      <td>OUT013</td>\n",
       "      <td>1987</td>\n",
       "      <td>High</td>\n",
       "      <td>Tier 3</td>\n",
       "      <td>Supermarket Type1</td>\n",
       "      <td>994.7052</td>\n",
       "    </tr>\n",
       "    <tr>\n",
       "      <th>5</th>\n",
       "      <td>FDP36</td>\n",
       "      <td>10.395</td>\n",
       "      <td>Regular</td>\n",
       "      <td>0</td>\n",
       "      <td>Baking Goods</td>\n",
       "      <td>51.4008</td>\n",
       "      <td>OUT018</td>\n",
       "      <td>2009</td>\n",
       "      <td>Medium</td>\n",
       "      <td>Tier 3</td>\n",
       "      <td>Supermarket Type2</td>\n",
       "      <td>556.6088</td>\n",
       "    </tr>\n",
       "    <tr>\n",
       "      <th>6</th>\n",
       "      <td>FDO10</td>\n",
       "      <td>13.65</td>\n",
       "      <td>Regular</td>\n",
       "      <td>0.012741089</td>\n",
       "      <td>Snack Foods</td>\n",
       "      <td>57.6588</td>\n",
       "      <td>OUT013</td>\n",
       "      <td>1987</td>\n",
       "      <td>High</td>\n",
       "      <td>Tier 3</td>\n",
       "      <td>Supermarket Type1</td>\n",
       "      <td>343.5528</td>\n",
       "    </tr>\n",
       "    <tr>\n",
       "      <th>7</th>\n",
       "      <td>FDP10</td>\n",
       "      <td>None</td>\n",
       "      <td>Low Fat</td>\n",
       "      <td>0.127469857</td>\n",
       "      <td>Snack Foods</td>\n",
       "      <td>107.7622</td>\n",
       "      <td>OUT027</td>\n",
       "      <td>1985</td>\n",
       "      <td>Medium</td>\n",
       "      <td>Tier 3</td>\n",
       "      <td>Supermarket Type3</td>\n",
       "      <td>4022.7636</td>\n",
       "    </tr>\n",
       "    <tr>\n",
       "      <th>8</th>\n",
       "      <td>FDH17</td>\n",
       "      <td>16.2</td>\n",
       "      <td>Regular</td>\n",
       "      <td>0.016687114</td>\n",
       "      <td>Frozen Foods</td>\n",
       "      <td>96.9726</td>\n",
       "      <td>OUT045</td>\n",
       "      <td>2002</td>\n",
       "      <td>None</td>\n",
       "      <td>Tier 2</td>\n",
       "      <td>Supermarket Type1</td>\n",
       "      <td>1076.5986</td>\n",
       "    </tr>\n",
       "    <tr>\n",
       "      <th>9</th>\n",
       "      <td>FDU28</td>\n",
       "      <td>19.2</td>\n",
       "      <td>Regular</td>\n",
       "      <td>0.09444959</td>\n",
       "      <td>Frozen Foods</td>\n",
       "      <td>187.8214</td>\n",
       "      <td>OUT017</td>\n",
       "      <td>2007</td>\n",
       "      <td>None</td>\n",
       "      <td>Tier 2</td>\n",
       "      <td>Supermarket Type1</td>\n",
       "      <td>4710.535</td>\n",
       "    </tr>\n",
       "  </tbody>\n",
       "</table>\n",
       "</div>"
      ],
      "text/plain": [
       "  Item_Identifier Item_Weight Item_Fat_Content Item_Visibility  \\\n",
       "0           FDA15         9.3          Low Fat     0.016047301   \n",
       "1           DRC01        5.92          Regular     0.019278216   \n",
       "2           FDN15        17.5          Low Fat     0.016760075   \n",
       "3           FDX07        19.2          Regular               0   \n",
       "4           NCD19        8.93          Low Fat               0   \n",
       "5           FDP36      10.395          Regular               0   \n",
       "6           FDO10       13.65          Regular     0.012741089   \n",
       "7           FDP10        None          Low Fat     0.127469857   \n",
       "8           FDH17        16.2          Regular     0.016687114   \n",
       "9           FDU28        19.2          Regular      0.09444959   \n",
       "\n",
       "               Item_Type  Item_MRP Outlet_Identifier  \\\n",
       "0                  Dairy  249.8092            OUT049   \n",
       "1            Soft Drinks   48.2692            OUT018   \n",
       "2                   Meat   141.618            OUT049   \n",
       "3  Fruits and Vegetables   182.095            OUT010   \n",
       "4              Household   53.8614            OUT013   \n",
       "5           Baking Goods   51.4008            OUT018   \n",
       "6            Snack Foods   57.6588            OUT013   \n",
       "7            Snack Foods  107.7622            OUT027   \n",
       "8           Frozen Foods   96.9726            OUT045   \n",
       "9           Frozen Foods  187.8214            OUT017   \n",
       "\n",
       "  Outlet_Establishment_Year Outlet_Size Outlet_Location_Type  \\\n",
       "0                      1999      Medium               Tier 1   \n",
       "1                      2009      Medium               Tier 3   \n",
       "2                      1999      Medium               Tier 1   \n",
       "3                      1998        None               Tier 3   \n",
       "4                      1987        High               Tier 3   \n",
       "5                      2009      Medium               Tier 3   \n",
       "6                      1987        High               Tier 3   \n",
       "7                      1985      Medium               Tier 3   \n",
       "8                      2002        None               Tier 2   \n",
       "9                      2007        None               Tier 2   \n",
       "\n",
       "         Outlet_Type Item_Outlet_Sales  \n",
       "0  Supermarket Type1          3735.138  \n",
       "1  Supermarket Type2          443.4228  \n",
       "2  Supermarket Type1           2097.27  \n",
       "3      Grocery Store            732.38  \n",
       "4  Supermarket Type1          994.7052  \n",
       "5  Supermarket Type2          556.6088  \n",
       "6  Supermarket Type1          343.5528  \n",
       "7  Supermarket Type3         4022.7636  \n",
       "8  Supermarket Type1         1076.5986  \n",
       "9  Supermarket Type1          4710.535  "
      ]
     },
     "execution_count": 37,
     "metadata": {},
     "output_type": "execute_result"
    }
   ],
   "source": [
    "# convert a small DataFrame to Pandas for richer display\n",
    "import pandas as pd\n",
    "df.limit(10).toPandas()"
   ]
  },
  {
   "cell_type": "markdown",
   "id": "b9cd6deb-9eb4-4ebd-8ef5-f63853b82bec",
   "metadata": {},
   "source": [
    "df.display() --> this command is used for rich display of df same like Pandas but it's only works with databricks application"
   ]
  },
  {
   "cell_type": "code",
   "execution_count": 38,
   "id": "97514514-6b1c-4478-9aa3-7632b2aca629",
   "metadata": {},
   "outputs": [
    {
     "name": "stdout",
     "output_type": "stream",
     "text": [
      "+---------------+-----------+----------------+\n",
      "|Item_Identifier|Item_Weight|Item_Fat_Content|\n",
      "+---------------+-----------+----------------+\n",
      "|          FDA15|        9.3|         Low Fat|\n",
      "|          DRC01|       5.92|         Regular|\n",
      "|          FDN15|       17.5|         Low Fat|\n",
      "|          FDX07|       19.2|         Regular|\n",
      "|          NCD19|       8.93|         Low Fat|\n",
      "+---------------+-----------+----------------+\n",
      "only showing top 5 rows\n"
     ]
    }
   ],
   "source": [
    "# getting only few rows of the dataframe\n",
    "df['Item_Identifier','Item_Weight','Item_Fat_Content'].show(n=5)"
   ]
  },
  {
   "cell_type": "markdown",
   "id": "e0c53cff-a4b5-4186-b341-33b7c768d249",
   "metadata": {},
   "source": [
    "### Schme Definitions\n",
    "Manually defining data types of each columns in the dataframe\n",
    "2 ways 1. DDL Schema 2. StructType() Schema"
   ]
  },
  {
   "cell_type": "code",
   "execution_count": 39,
   "id": "fedd4778-d271-452c-b186-e24c8492eadb",
   "metadata": {},
   "outputs": [
    {
     "name": "stdout",
     "output_type": "stream",
     "text": [
      "root\n",
      " |-- Item_Identifier: string (nullable = true)\n",
      " |-- Item_Weight: string (nullable = true)\n",
      " |-- Item_Fat_Content: string (nullable = true)\n",
      " |-- Item_Visibility: double (nullable = true)\n",
      " |-- Item_Type: string (nullable = true)\n",
      " |-- Item_MRP: double (nullable = true)\n",
      " |-- Outlet_Identifier: string (nullable = true)\n",
      " |-- Outlet_Establishment_Year: integer (nullable = true)\n",
      " |-- Outlet_Size: string (nullable = true)\n",
      " |-- Outlet_Location_Type: string (nullable = true)\n",
      " |-- Outlet_Type: string (nullable = true)\n",
      " |-- Item_Outlet_Sales: double (nullable = true)\n",
      "\n",
      "-RECORD 0--------------------------------------\n",
      " Item_Identifier           | FDA15             \n",
      " Item_Weight               | 9.3               \n",
      " Item_Fat_Content          | Low Fat           \n",
      " Item_Visibility           | 0.016047301       \n",
      " Item_Type                 | Dairy             \n",
      " Item_MRP                  | 249.8092          \n",
      " Outlet_Identifier         | OUT049            \n",
      " Outlet_Establishment_Year | 1999              \n",
      " Outlet_Size               | Medium            \n",
      " Outlet_Location_Type      | Tier 1            \n",
      " Outlet_Type               | Supermarket Type1 \n",
      " Item_Outlet_Sales         | 3735.138          \n",
      "only showing top 1 row\n"
     ]
    }
   ],
   "source": [
    "# DDL schema: we need to define for every column of the dataframe if we define for only one column it'll throw error as below \n",
    "# ParseException: [PARSE_SYNTAX_ERROR] Syntax error at or near end of input. SQLSTATE: 42601 (line 4, pos 0) \n",
    "my_ddl_schema= '''\n",
    "                    Item_Identifier STRING,\n",
    "                    Item_Weight STRING,\n",
    "                    Item_Fat_Content STRING, \n",
    "                    Item_Visibility DOUBLE,\n",
    "                    Item_Type STRING,\n",
    "                    Item_MRP DOUBLE,\n",
    "                    Outlet_Identifier STRING,\n",
    "                    Outlet_Establishment_Year INT,\n",
    "                    Outlet_Size STRING,\n",
    "                    Outlet_Location_Type STRING, \n",
    "                    Outlet_Type STRING,\n",
    "                    Item_Outlet_Sales DOUBLE\n",
    "'''\n",
    "df = spark.read.csv(file_path,header=True,schema=my_ddl_schema)\n",
    "df.printSchema()\n",
    "\n",
    "df.show(n=1,truncate=False,vertical=True)"
   ]
  },
  {
   "cell_type": "code",
   "execution_count": 40,
   "id": "519ee97b-cea0-4a54-abf7-b81616e28e84",
   "metadata": {},
   "outputs": [
    {
     "name": "stdout",
     "output_type": "stream",
     "text": [
      "root\n",
      " |-- Item_Identifier: string (nullable = true)\n",
      " |-- Item_Weight: double (nullable = true)\n",
      " |-- Item_Fat_Content: string (nullable = true)\n",
      " |-- Item_Visibility: string (nullable = true)\n",
      " |-- Item_MRP: string (nullable = true)\n",
      " |-- Outlet_Identifier: string (nullable = true)\n",
      " |-- Outlet_Establishment_Year: string (nullable = true)\n",
      " |-- Outlet_Size: string (nullable = true)\n",
      " |-- Outlet_Location_Type: string (nullable = true)\n",
      " |-- Outlet_Type: string (nullable = true)\n",
      " |-- Item_Outlet_Sales: string (nullable = true)\n",
      "\n",
      "-RECORD 0--------------------------------------\n",
      " Item_Identifier           | FDA15             \n",
      " Item_Weight               | 9.3               \n",
      " Item_Fat_Content          | Low Fat           \n",
      " Item_Visibility           | 0.016047301       \n",
      " Item_MRP                  | Dairy             \n",
      " Outlet_Identifier         | 249.8092          \n",
      " Outlet_Establishment_Year | OUT049            \n",
      " Outlet_Size               | 1999              \n",
      " Outlet_Location_Type      | Medium            \n",
      " Outlet_Type               | Tier 1            \n",
      " Item_Outlet_Sales         | Supermarket Type1 \n",
      "only showing top 1 row\n"
     ]
    }
   ],
   "source": [
    "# structtype function contains structfield function, we need to define inside this (col_name,datatyoe as function,nullable=True/False)\n",
    "# nullable means the column can have null values or not\n",
    "my_struct_schema = StructType([ StructField('Item_Identifier',StringType(),True),\n",
    "                              StructField('Item_Weight',DoubleType(),True), \n",
    "                              StructField('Item_Fat_Content',StringType(),True), \n",
    "                              StructField('Item_Visibility',StringType(),True), \n",
    "                              StructField('Item_MRP',StringType(),True), \n",
    "                              StructField('Outlet_Identifier',StringType(),True), \n",
    "                              StructField('Outlet_Establishment_Year',StringType(),True), \n",
    "                              StructField('Outlet_Size',StringType(),True), \n",
    "                              StructField('Outlet_Location_Type',StringType(),True), \n",
    "                              StructField('Outlet_Type',StringType(),True), \n",
    "                              StructField('Item_Outlet_Sales',StringType(),True)\n",
    "\n",
    "])\n",
    "# command to read data with customschema\n",
    "df = spark.read.format('csv')\\\n",
    "                .option('header',True)\\\n",
    "                .schema(my_struct_schema)\\\n",
    "                .load(file_path)\n",
    "df.printSchema()\n",
    "df.show(n=1,vertical=True)"
   ]
  },
  {
   "cell_type": "code",
   "execution_count": 41,
   "id": "a36fa04d-5585-4f62-85a2-4a0164a97bb3",
   "metadata": {},
   "outputs": [
    {
     "name": "stdout",
     "output_type": "stream",
     "text": [
      "root\n",
      " |-- Item_Weight: string (nullable = true)\n",
      "\n",
      "+-----------+\n",
      "|Item_Weight|\n",
      "+-----------+\n",
      "|      FDA15|\n",
      "+-----------+\n",
      "only showing top 1 row\n"
     ]
    }
   ],
   "source": [
    "# if you try to define schema for a single column  it won't throw an error instead \n",
    "# it'll select the first column even though if we mention another column name and changes it's name and data as an example below\n",
    "my_struct_schema=StructType([StructField('Item_Weight',StringType(),True)])\n",
    "df1= spark.read.csv(file_path,header=True,schema=my_struct_schema)\n",
    "df1.printSchema()\n",
    "df1.show(n=1)"
   ]
  },
  {
   "cell_type": "markdown",
   "id": "8bdca070-dda5-4012-b012-9b1a671dac89",
   "metadata": {},
   "source": [
    "### Fetching few columns from the dataframe"
   ]
  },
  {
   "cell_type": "code",
   "execution_count": 42,
   "id": "d33dcf1b-202a-4455-9e4f-63d5bf131b47",
   "metadata": {},
   "outputs": [
    {
     "name": "stdout",
     "output_type": "stream",
     "text": [
      "+---------------+-----------+----------------+\n",
      "|Item_Identifier|Item_Weight|Item_Fat_Content|\n",
      "+---------------+-----------+----------------+\n",
      "|          FDA15|        9.3|         Low Fat|\n",
      "|          DRC01|       5.92|         Regular|\n",
      "|          FDN15|       17.5|         Low Fat|\n",
      "|          FDX07|       19.2|         Regular|\n",
      "|          NCD19|       8.93|         Low Fat|\n",
      "+---------------+-----------+----------------+\n",
      "only showing top 5 rows\n",
      "+---------------+-----------+----------------+\n",
      "|Item_Identifier|Item_Weight|Item_Fat_Content|\n",
      "+---------------+-----------+----------------+\n",
      "|          FDA15|        9.3|         Low Fat|\n",
      "|          DRC01|       5.92|         Regular|\n",
      "|          FDN15|       17.5|         Low Fat|\n",
      "|          FDX07|       19.2|         Regular|\n",
      "|          NCD19|       8.93|         Low Fat|\n",
      "+---------------+-----------+----------------+\n",
      "only showing top 5 rows\n"
     ]
    }
   ],
   "source": [
    "# by using select function\n",
    "df.select('Item_Identifier','Item_Weight','Item_Fat_Content').show(n=5)\n",
    "# by simply performing slicing operation\n",
    "df['Item_Identifier','Item_Weight','Item_Fat_Content'].show(n=5)"
   ]
  },
  {
   "cell_type": "markdown",
   "id": "886bff25-1b1f-4241-b63d-98a9026f813b",
   "metadata": {},
   "source": [
    "### Data Writing/Exporting the data"
   ]
  },
  {
   "cell_type": "code",
   "execution_count": 43,
   "id": "b4285c47-667e-426b-8e50-cc0e5572c5b9",
   "metadata": {},
   "outputs": [],
   "source": [
    "'''Py4JJavaError: An error occurred while calling o370.save.\n",
    ": java.lang.RuntimeException: java.io.FileNotFoundException: java.io.FileNotFoundException: HADOOP_HOME and hadoop.home.dir are unset. -see https://cwiki.apache.org/confluence/display/HADOOP2/WindowsProblems\n",
    "\n",
    "it'll save as a folder of files with the output file and metadata as well\n",
    "'''\n",
    "os.environ['HADOOP_HOME'] = r'C:\\Users\\sainadh\\my_venv\\Hadoop\\bin'"
   ]
  },
  {
   "cell_type": "raw",
   "id": "1ebfd726-d517-4b25-8dcf-93d9135e1da9",
   "metadata": {},
   "source": [
    "# saving a csv file\n",
    "df.write.format('csv')\\\n",
    "        .save('output_file_path')\n",
    "\n",
    "# saving file mode as an append, all the updates will be added to the existing data\n",
    "df.write.format('csv')\\\n",
    "        .mode('append')\\\n",
    "        .option('path','output_file_path')\\\n",
    "        .save()\n",
    "\n",
    "# saving file mode as an overwrite, all the updates will be overwritten to the existing data\n",
    "df.write.format('csv')\\\n",
    "        .mode('overwrite')\\\n",
    "        .option('path','output_file_path')\\\n",
    "        .save()\n",
    "\n",
    "# saving file mode as an error, will trigger a warning if there's already existing data\n",
    "df.write.format('csv')\\\n",
    "        .mode('error')\\\n",
    "        .option('path','output_file_path')\\\n",
    "        .save()\n",
    "\n",
    "# saving file mode as an ignore, will ignore if there's already existing data\n",
    "df.write.format('csv')\\\n",
    "        .mode('append')\\\n",
    "        .option('path','output_file_path')\\\n",
    "        .save()\n",
    "\n",
    "# save in parquet format\n",
    "df.write.format('parquet')\\\n",
    "        .mode('overwrite')\\\n",
    "        .option('path','/FileStore/tables/CSV/data.csv')\\\n",
    "        .save()\n",
    "\n",
    "# save as a table\n",
    "df.write.format('parquet')\\\n",
    ".mode('overwrite')\\\n",
    ".saveAsTable('my_table')\n",
    "\n",
    "# simple form of writing the csv file to output file path\n",
    "df.coalesce(1).write.csv('data.csv',mode='overwrite')"
   ]
  },
  {
   "cell_type": "markdown",
   "id": "41603326-400d-430c-9d87-3627eeedcd06",
   "metadata": {},
   "source": [
    "### Spark SQL\n",
    "writing sql queries for the pyspark"
   ]
  },
  {
   "cell_type": "code",
   "execution_count": null,
   "id": "71ae71ee-39db-4f5d-93e5-99f5d69f81a9",
   "metadata": {},
   "outputs": [],
   "source": [
    "# first we need to create temporary view\n",
    "df.createTempView('my_view')"
   ]
  },
  {
   "cell_type": "code",
   "execution_count": null,
   "id": "486f08df-c9d3-4313-80c1-58088caa1b15",
   "metadata": {},
   "outputs": [],
   "source": [
    "%sql\n",
    "\n",
    "select * from my_view where Item_Fat_Content = 'Lf'"
   ]
  },
  {
   "cell_type": "code",
   "execution_count": 45,
   "id": "85853bae-b8b4-4826-9fb1-6f1a481dbf9c",
   "metadata": {},
   "outputs": [
    {
     "name": "stdout",
     "output_type": "stream",
     "text": [
      "-RECORD 0--------------------------------------\n",
      " Item_Identifier           | FDA15             \n",
      " Item_Weight               | 9.3               \n",
      " Item_Fat_Content          | Low Fat           \n",
      " Item_Visibility           | 0.016047301       \n",
      " Item_MRP                  | Dairy             \n",
      " Outlet_Identifier         | 249.8092          \n",
      " Outlet_Establishment_Year | OUT049            \n",
      " Outlet_Size               | 1999              \n",
      " Outlet_Location_Type      | Medium            \n",
      " Outlet_Type               | Tier 1            \n",
      " Item_Outlet_Sales         | Supermarket Type1 \n",
      "only showing top 1 row\n"
     ]
    }
   ],
   "source": [
    "# command to run sql commands in the spark\n",
    "df_sql = spark.sql(\"select * from my_view where Item_Fat_Content = 'Low Fat'\")\n",
    "df_sql.show(n=1,vertical=True)"
   ]
  },
  {
   "cell_type": "code",
   "execution_count": null,
   "id": "8f1d36d8-8763-4342-8426-ad30037efe07",
   "metadata": {},
   "outputs": [],
   "source": []
  }
 ],
 "metadata": {
  "kernelspec": {
   "display_name": "PYSPARK_KERNEL",
   "language": "python",
   "name": "pyspark_kernel"
  },
  "language_info": {
   "codemirror_mode": {
    "name": "ipython",
    "version": 3
   },
   "file_extension": ".py",
   "mimetype": "text/x-python",
   "name": "python",
   "nbconvert_exporter": "python",
   "pygments_lexer": "ipython3",
   "version": "3.13.2"
  },
  "widgets": {
   "application/vnd.jupyter.widget-state+json": {
    "state": {},
    "version_major": 2,
    "version_minor": 0
   }
  }
 },
 "nbformat": 4,
 "nbformat_minor": 5
}
