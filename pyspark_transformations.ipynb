{
 "cells": [
  {
   "cell_type": "markdown",
   "id": "75f7d227-045d-4d65-a8f6-b9345d97c0cb",
   "metadata": {},
   "source": [
    "### Importing necessary libraries"
   ]
  },
  {
   "cell_type": "code",
   "execution_count": 51,
   "id": "744de514-bac0-4552-acf3-2dadc2d64187",
   "metadata": {},
   "outputs": [
    {
     "name": "stdout",
     "output_type": "stream",
     "text": [
      "root\n",
      " |-- Item_Identifier: string (nullable = true)\n",
      " |-- Item_Weight: string (nullable = true)\n",
      " |-- Item_Fat_Content: string (nullable = true)\n",
      " |-- Item_Visibility: string (nullable = true)\n",
      " |-- Item_Type: string (nullable = true)\n",
      " |-- Item_MRP: string (nullable = true)\n",
      " |-- Outlet_Identifier: string (nullable = true)\n",
      " |-- Outlet_Establishment_Year: string (nullable = true)\n",
      " |-- Outlet_Size: string (nullable = true)\n",
      " |-- Outlet_Location_Type: string (nullable = true)\n",
      " |-- Outlet_Type: string (nullable = true)\n",
      " |-- Item_Outlet_Sales: string (nullable = true)\n",
      "\n",
      "-RECORD 0--------------------------------------\n",
      " Item_Identifier           | FDA15             \n",
      " Item_Weight               | 9.3               \n",
      " Item_Fat_Content          | Low Fat           \n",
      " Item_Visibility           | 0.016047301       \n",
      " Item_Type                 | Dairy             \n",
      " Item_MRP                  | 249.8092          \n",
      " Outlet_Identifier         | OUT049            \n",
      " Outlet_Establishment_Year | 1999              \n",
      " Outlet_Size               | Medium            \n",
      " Outlet_Location_Type      | Tier 1            \n",
      " Outlet_Type               | Supermarket Type1 \n",
      " Item_Outlet_Sales         | 3735.138          \n",
      "only showing top 1 row\n"
     ]
    }
   ],
   "source": [
    "import pyspark\n",
    "import os,pandas\n",
    "from pyspark.sql import SparkSession\n",
    "from pyspark.sql.types import *\n",
    "from pyspark.sql.functions import *\n",
    "\n",
    "spark = SparkSession.builder.getOrCreate()\n",
    "input_df = spark.read.csv('BigMart_Sales.csv',header=True)\n",
    "input_df.printSchema()\n",
    "input_df.show(n=1,vertical=True)"
   ]
  },
  {
   "cell_type": "markdown",
   "id": "83bc4613-cb11-471d-a850-8ad4bc39082c",
   "metadata": {},
   "source": [
    "### Renaming a column in a df"
   ]
  },
  {
   "cell_type": "code",
   "execution_count": 62,
   "id": "3c799b0b-eb7f-46ed-8a23-48c07caa29ab",
   "metadata": {},
   "outputs": [
    {
     "name": "stdout",
     "output_type": "stream",
     "text": [
      "+-------+\n",
      "|Item_ID|\n",
      "+-------+\n",
      "|  FDA15|\n",
      "|  DRC01|\n",
      "|  FDN15|\n",
      "|  FDX07|\n",
      "|  NCD19|\n",
      "+-------+\n",
      "only showing top 5 rows\n",
      "-RECORD 0--------------------------------------\n",
      " Item_Identifier           | FDA15             \n",
      " Item_Weight               | 9.3               \n",
      " Item_Fat_Content          | Low Fat           \n",
      " Item_Visibility           | 0.016047301       \n",
      " Item_Type                 | Dairy             \n",
      " Item_MRP                  | 249.8092          \n",
      " Outlet_Identifier         | OUT049            \n",
      " Outlet_Establishment_Year | 1999              \n",
      " Outlet_Size               | Medium            \n",
      " Outlet_Location_Type      | Tier 1            \n",
      " Outlet_Type               | Supermarket Type1 \n",
      " Item_Outlet_Sales         | 3735.138          \n",
      "only showing top 1 row\n"
     ]
    }
   ],
   "source": [
    "# Fetch the column and apply changes to the column\n",
    "input_df.select(col('Item_Identifier').alias('Item_ID')).show(n=5)\n",
    "input_df.show(n=1,vertical=True)"
   ]
  },
  {
   "cell_type": "markdown",
   "id": "e32fc8b4-bad0-4767-95d5-8a383d609845",
   "metadata": {},
   "source": [
    "#### withColumnRenamed method"
   ]
  },
  {
   "cell_type": "code",
   "execution_count": 64,
   "id": "0669726d-d86e-41e0-96c2-23db5b90e5fc",
   "metadata": {},
   "outputs": [
    {
     "name": "stdout",
     "output_type": "stream",
     "text": [
      "root\n",
      " |-- Item_ID: string (nullable = true)\n",
      " |-- Item_Weight: string (nullable = true)\n",
      " |-- Item_Fat_Content: string (nullable = true)\n",
      " |-- Item_Visibility: string (nullable = true)\n",
      " |-- Item_Type: string (nullable = true)\n",
      " |-- Item_MRP: string (nullable = true)\n",
      " |-- Outlet_Identifier: string (nullable = true)\n",
      " |-- Outlet_Establishment_Year: string (nullable = true)\n",
      " |-- Outlet_Size: string (nullable = true)\n",
      " |-- Outlet_Location_Type: string (nullable = true)\n",
      " |-- Outlet_Type: string (nullable = true)\n",
      " |-- Item_Outlet_Sales: string (nullable = true)\n",
      "\n"
     ]
    }
   ],
   "source": [
    "# if you want to make changes to one column name and reflect the df as it is\n",
    "df = input_df.withColumnRenamed('Item_Identifier','Item_ID') # it'll change the column name and returns entire df\n",
    "df.printSchema()"
   ]
  },
  {
   "cell_type": "code",
   "execution_count": null,
   "id": "bdc614c2-a25b-44f4-ba32-2647e2e1cd5e",
   "metadata": {},
   "outputs": [],
   "source": []
  }
 ],
 "metadata": {
  "kernelspec": {
   "display_name": "PYSPARK_KERNEL",
   "language": "python",
   "name": "pyspark_kernel"
  },
  "language_info": {
   "codemirror_mode": {
    "name": "ipython",
    "version": 3
   },
   "file_extension": ".py",
   "mimetype": "text/x-python",
   "name": "python",
   "nbconvert_exporter": "python",
   "pygments_lexer": "ipython3",
   "version": "3.13.2"
  },
  "widgets": {
   "application/vnd.jupyter.widget-state+json": {
    "state": {},
    "version_major": 2,
    "version_minor": 0
   }
  }
 },
 "nbformat": 4,
 "nbformat_minor": 5
}
